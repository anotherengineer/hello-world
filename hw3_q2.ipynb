{
 "cells": [
  {
   "cell_type": "code",
   "execution_count": 1,
   "metadata": {},
   "outputs": [],
   "source": [
    "import numpy as np\n",
    "import matplotlib.pyplot as plt"
   ]
  },
  {
   "cell_type": "code",
   "execution_count": 2,
   "metadata": {},
   "outputs": [],
   "source": [
    "# parameters\n",
    "E = 10\n",
    "r = 0.1\n",
    "sigma = 0.4\n",
    "T = 4/12\n",
    "S_max = 100\n",
    "N_plus = 50\n",
    "N_minus = 0\n",
    "N = 100\n",
    "dt = T/N\n",
    "dj = S_max/N_plus #2\n",
    "omega = 1.2\n",
    "tol = 0.00001"
   ]
  },
  {
   "cell_type": "code",
   "execution_count": 3,
   "metadata": {},
   "outputs": [],
   "source": [
    "alpha = np.zeros(N_plus - N_minus + 1)\n",
    "beta = np.zeros(N_plus - N_minus + 1)\n",
    "gamma = np.zeros(N_plus - N_minus + 1)\n",
    "for i in range(N_minus,N_plus+1): #0 to 51\n",
    "    \n",
    "    alpha[i] = 0.25*dt*((sigma*i)**2 + r*i)\n",
    "    beta[i] = 0.5*dt*((sigma*i)**2 + r*i)\n",
    "    gamma[i] = 0.25*dt*((sigma*i)**2 - r*i)"
   ]
  },
  {
   "cell_type": "code",
   "execution_count": 4,
   "metadata": {},
   "outputs": [
    {
     "data": {
      "text/plain": [
       "51"
      ]
     },
     "execution_count": 4,
     "metadata": {},
     "output_type": "execute_result"
    }
   ],
   "source": [
    "len(alpha)"
   ]
  },
  {
   "cell_type": "code",
   "execution_count": 5,
   "metadata": {},
   "outputs": [],
   "source": [
    "def payoff_put(S,E):\n",
    "    \n",
    "    return np.maximum(E-S,0)"
   ]
  },
  {
   "cell_type": "code",
   "execution_count": 6,
   "metadata": {},
   "outputs": [],
   "source": [
    "def payoff_call(S,E):\n",
    "    return np.maximum(S-E,0)"
   ]
  },
  {
   "cell_type": "code",
   "execution_count": 7,
   "metadata": {},
   "outputs": [],
   "source": [
    "def PSOR_Solver_American(american,g,Z_american,alpha,beta,gamma,N_minus,N_plus,omega,tol):\n",
    "    \n",
    "    american[N_minus] = g[N_minus]\n",
    "    american[N_plus] = g[N_plus]\n",
    "    \n",
    "    error = 10000\n",
    "    while error > tol:\n",
    "        error = 0\n",
    "        for i in range(N_minus+1,N_plus):\n",
    "            y = (Z_american[i] + alpha[i]*american[i+1] + gamma[i]*american[i-1])/(1+beta[i])\n",
    "            y = np.maximum(g[i],(american[i]+ omega*(y-american[i])))\n",
    "            error = error + (american[i]- y)**2\n",
    "            american[i] = y\n",
    "    return american"
   ]
  },
  {
   "cell_type": "code",
   "execution_count": 8,
   "metadata": {},
   "outputs": [],
   "source": [
    "def PSOR_Solver_European(european,g,Z_european,alpha,beta,gamma,N_minus,N_plus,omega,tol):\n",
    "    \n",
    "    european[N_minus] = g[N_minus]\n",
    "    european[N_plus] = g[N_plus]\n",
    "    \n",
    "    error = 10000\n",
    "    while error > tol:\n",
    "        error = 0\n",
    "        for i in range(N_minus+1,N_plus):\n",
    "            y = (Z_european[i] + alpha[i]*european[i+1] + gamma[i]*european[i-1])/(1+beta[i])\n",
    "            y = european[i]+ omega*(y-european[i])\n",
    "            error = error + (european[i]- y)**2\n",
    "            european[i] = y\n",
    "    return european"
   ]
  },
  {
   "cell_type": "code",
   "execution_count": 9,
   "metadata": {},
   "outputs": [],
   "source": [
    "def Put(alpha,beta,gamma,dj,E,N_plus,N_minus,tol,omega):\n",
    "    \n",
    "    size = N_plus - N_minus + 1 #51\n",
    "    \n",
    "    american = np.zeros((size))\n",
    "    european = np.zeros((size))\n",
    "    g = np.zeros((size))\n",
    "    Z_american = np.zeros((size))\n",
    "    Z_european = np.zeros((size))\n",
    "    Sx = np.zeros((size))\n",
    "    \n",
    "    for i in range(N_minus,N_plus+1):\n",
    "        Sx[i] = i*dj\n",
    "        american[i] = payoff_put(Sx[i],E)\n",
    "        european[i] = payoff_put(Sx[i],E)\n",
    "        \n",
    "    \n",
    "    for n in range(N):\n",
    "        \n",
    "        for j in range(N_minus+1, N_plus):\n",
    "            \n",
    "            g[j] = payoff_put(Sx[j],E)\n",
    "            \n",
    "            Z_american[j] = alpha[j]*american[j+1] + (1-beta[j])*american[j] + gamma[j]*american[j-1]\n",
    "            \n",
    "            Z_european[j] = alpha[j]*european[j+1] + (1-beta[j])*european[j] + gamma[j]*european[j-1]\n",
    "        \n",
    "        g[N_minus] = payoff_put(Sx[N_minus],E)\n",
    "        g[N_plus] = payoff_put(Sx[N_plus],E)\n",
    "        \n",
    "        american[N_minus] = g[N_minus]\n",
    "        american[N_plus] = g[N_plus]\n",
    "        \n",
    "        european[N_minus] = g[N_minus]\n",
    "        european[N_plus] = g[N_plus]\n",
    "        \n",
    "        american = PSOR_Solver_American(american,g,Z_american,alpha,beta,gamma,N_minus,N_plus,omega,tol)\n",
    "        european = PSOR_Solver_European(american,g,Z_european,alpha,beta,gamma,N_minus,N_plus,omega,tol)\n",
    "        \n",
    "    return american,european\n",
    "\n",
    "        "
   ]
  },
  {
   "cell_type": "code",
   "execution_count": 10,
   "metadata": {},
   "outputs": [],
   "source": [
    "am_eu_put = Put(alpha,beta,gamma,dj,E,N_plus,N_minus,tol,omega)"
   ]
  },
  {
   "cell_type": "code",
   "execution_count": 11,
   "metadata": {},
   "outputs": [
    {
     "data": {
      "text/plain": [
       "(array([1.00000000e+01, 7.66814318e+00, 5.48551579e+00, 3.46027817e+00,\n",
       "        1.71275404e+00, 5.80296836e-01, 1.70814429e-01, 4.79421773e-02,\n",
       "        1.33520678e-02, 3.75970250e-03, 1.08023678e-03, 3.18110435e-04,\n",
       "        9.62017984e-05, 2.98948766e-05, 9.54444650e-06, 3.12890935e-06,\n",
       "        1.05237611e-06, 3.62811854e-07, 1.28085515e-07, 4.62592815e-08,\n",
       "        1.70748779e-08, 6.43530642e-09, 2.47425078e-09, 9.69637965e-10,\n",
       "        3.87003272e-10, 1.57190243e-10, 6.49273700e-11, 2.72536367e-11,\n",
       "        1.16181130e-11, 5.02686506e-12, 2.20627866e-12, 9.81725478e-13,\n",
       "        4.42654113e-13, 2.02150182e-13, 9.34589399e-14, 4.37237299e-14,\n",
       "        2.06912015e-14, 9.90052388e-15, 4.78823067e-15, 2.33983317e-15,\n",
       "        1.15489781e-15, 5.75589947e-16, 2.89573706e-16, 1.47007309e-16,\n",
       "        7.52768739e-17, 3.88450477e-17, 2.01467236e-17, 1.04067095e-17,\n",
       "        5.17634245e-18, 2.13801852e-18, 0.00000000e+00]),\n",
       " array([1.00000000e+01, 7.66814318e+00, 5.48551579e+00, 3.46027817e+00,\n",
       "        1.71275404e+00, 5.80296836e-01, 1.70814429e-01, 4.79421773e-02,\n",
       "        1.33520678e-02, 3.75970250e-03, 1.08023678e-03, 3.18110435e-04,\n",
       "        9.62017984e-05, 2.98948766e-05, 9.54444650e-06, 3.12890935e-06,\n",
       "        1.05237611e-06, 3.62811854e-07, 1.28085515e-07, 4.62592815e-08,\n",
       "        1.70748779e-08, 6.43530642e-09, 2.47425078e-09, 9.69637965e-10,\n",
       "        3.87003272e-10, 1.57190243e-10, 6.49273700e-11, 2.72536367e-11,\n",
       "        1.16181130e-11, 5.02686506e-12, 2.20627866e-12, 9.81725478e-13,\n",
       "        4.42654113e-13, 2.02150182e-13, 9.34589399e-14, 4.37237299e-14,\n",
       "        2.06912015e-14, 9.90052388e-15, 4.78823067e-15, 2.33983317e-15,\n",
       "        1.15489781e-15, 5.75589947e-16, 2.89573706e-16, 1.47007309e-16,\n",
       "        7.52768739e-17, 3.88450477e-17, 2.01467236e-17, 1.04067095e-17,\n",
       "        5.17634245e-18, 2.13801852e-18, 0.00000000e+00]))"
      ]
     },
     "execution_count": 11,
     "metadata": {},
     "output_type": "execute_result"
    }
   ],
   "source": [
    "am_eu_put"
   ]
  },
  {
   "cell_type": "code",
   "execution_count": null,
   "metadata": {},
   "outputs": [],
   "source": []
  }
 ],
 "metadata": {
  "kernelspec": {
   "display_name": "Python 3",
   "language": "python",
   "name": "python3"
  },
  "language_info": {
   "codemirror_mode": {
    "name": "ipython",
    "version": 3
   },
   "file_extension": ".py",
   "mimetype": "text/x-python",
   "name": "python",
   "nbconvert_exporter": "python",
   "pygments_lexer": "ipython3",
   "version": "3.7.0"
  }
 },
 "nbformat": 4,
 "nbformat_minor": 2
}
